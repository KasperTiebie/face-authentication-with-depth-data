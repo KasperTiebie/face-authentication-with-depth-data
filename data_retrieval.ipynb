{
 "cells": [
  {
   "cell_type": "code",
   "execution_count": 89,
   "metadata": {},
   "outputs": [],
   "source": [
    "import pyrealsense2.pyrealsense2 as rs\n",
    "import numpy as np\n",
    "import os\n",
    "import cv2\n",
    "\n",
    "directory = \"framesets\"\n",
    "newfile = \"Classroom_9_Roald_Print\""
   ]
  },
  {
   "cell_type": "code",
   "execution_count": 90,
   "metadata": {},
   "outputs": [
    {
     "name": "stdout",
     "output_type": "stream",
     "text": [
      "Depth Scale: 0.0010000000474974513 meters\n"
     ]
    }
   ],
   "source": [
    "# If the given file already exists\n",
    "if os.path.isfile(os.path.join(directory, newfile + \".bag\")):\n",
    "    print(\"File already exists!\")\n",
    "else:\n",
    "    # Configure depth and color streams\n",
    "    pipeline = rs.pipeline()\n",
    "    saver = rs.save_single_frameset(filename = os.path.join(directory, newfile))\n",
    "    colorizer = rs.colorizer()\n",
    "\n",
    "    config = rs.config()\n",
    "    config.enable_stream(rs.stream.depth, 640, 480, rs.format.z16, 30)\n",
    "    config.enable_stream(rs.stream.color, 640, 480, rs.format.bgr8, 30)\n",
    "\n",
    "    # Get device product line for setting a supporting resolution\n",
    "    pipeline_wrapper = rs.pipeline_wrapper(pipeline)\n",
    "    pipeline_profile = config.resolve(pipeline_wrapper)\n",
    "    device = pipeline_profile.get_device()\n",
    "    device_product_line = str(device.get_info(rs.camera_info.product_line))\n",
    "\n",
    "    # Start the pipeline\n",
    "    profile = pipeline.start(config)\n",
    "\n",
    "    # Print the depth scale\n",
    "    depth_scale = profile.get_device().first_depth_sensor().get_depth_scale()\n",
    "    print(\"Depth Scale: {} meters\".format(depth_scale))\n",
    "\n",
    "    # Initialize the Haar-cascade classifier\n",
    "    face_cascade = cv2.CascadeClassifier();\n",
    "    face_cascade.load(\"ext/haarcascade_frontalface_default.xml\");\n",
    "\n",
    "    try:\n",
    "        while True:\n",
    "            # Wait for a coherent pair of frames: depth and color\n",
    "            frames = pipeline.wait_for_frames()\n",
    "            align = rs.align(rs.stream.color)\n",
    "            aligned_frames = align.process(frames)\n",
    "            depth_frame = aligned_frames.get_depth_frame().as_frame()\n",
    "            depth_color_frame = rs.colorizer().colorize(depth_frame)\n",
    "            color_frame = aligned_frames.get_color_frame().as_frame()\n",
    "            if not depth_frame or not color_frame:\n",
    "                continue\n",
    "\n",
    "            # Convert images to numpy arrays\n",
    "            depth_image = np.asanyarray(depth_frame.get_data())\n",
    "            depth_colormap = np.asanyarray(depth_color_frame.get_data())\n",
    "            color_image = np.asanyarray(color_frame.get_data())\n",
    "            gray_image = cv2.cvtColor(color_image, cv2.COLOR_BGR2GRAY)\n",
    "\n",
    "            # Apply colormap on depth image (image must be converted to 8-bit per pixel first)\n",
    "            depth_colormap_dim = depth_colormap.shape\n",
    "            color_colormap_dim = color_image.shape\n",
    "\n",
    "            # Apply Haar-cascade classifier\n",
    "            faces = face_cascade.detectMultiScale(gray_image)\n",
    "\n",
    "            # Extract a copy of the original images to draw onto\n",
    "            color_image_display = color_image.copy()\n",
    "            depth_colormap_display = depth_colormap.copy()\n",
    "\n",
    "            for (x,y,w,h) in faces:\n",
    "                cv2.rectangle(color_image_display, (x, y), (x+w, y+h), (0, 0, 255), 1)\n",
    "                cv2.rectangle(depth_colormap_display, (x, y), (x+w, y+h), (0, 0, 255), 1)\n",
    "                extracted_face_color = color_image_display[y:y+h,x:x+w]\n",
    "                extracted_face_depth = color_image_display[y:y+h,x:x+w]\n",
    "\n",
    "            # If depth and color resolutions are different, resize color image to match depth image for display\n",
    "            if depth_colormap_dim != color_colormap_dim:\n",
    "                resized_color_image = cv2.resize(color_image_display, dsize=(depth_colormap_dim[1], depth_colormap_dim[0]), interpolation=cv2.INTER_AREA)\n",
    "                images = np.hstack((resized_color_image, depth_colormap_display))\n",
    "            else:\n",
    "                images = np.hstack((color_image_display, depth_colormap_display))\n",
    "\n",
    "            # Show images\n",
    "            cv2.namedWindow('RealSense', cv2.WINDOW_AUTOSIZE)\n",
    "            cv2.imshow('RealSense', images)\n",
    "\n",
    "            key = cv2.waitKey(1)\n",
    "            # Press esc or 'q' to close the image window\n",
    "            if key & 0xFF == ord('q') or key == 27:\n",
    "                saver.process(frames)\n",
    "\n",
    "                # Remove the numbers that were appended to the filename\n",
    "                filenames = [filename for filename in os.listdir(directory) if filename.startswith(newfile)]\n",
    "                os.rename(os.path.join(directory, filenames[0]), os.path.join(directory, newfile + \".bag\"))\n",
    "                cv2.destroyAllWindows()\n",
    "                break\n",
    "\n",
    "    finally:\n",
    "\n",
    "        # Stop streaming\n",
    "        pipeline.stop()"
   ]
  },
  {
   "cell_type": "code",
   "execution_count": null,
   "metadata": {},
   "outputs": [],
   "source": []
  }
 ],
 "metadata": {
  "kernelspec": {
   "display_name": "Python 3.9.13 ('onderzoek')",
   "language": "python",
   "name": "python3"
  },
  "language_info": {
   "codemirror_mode": {
    "name": "ipython",
    "version": 3
   },
   "file_extension": ".py",
   "mimetype": "text/x-python",
   "name": "python",
   "nbconvert_exporter": "python",
   "pygments_lexer": "ipython3",
   "version": "3.9.13"
  },
  "orig_nbformat": 4,
  "vscode": {
   "interpreter": {
    "hash": "06f1ba10863b5962b8e4e5709ffe051ecd7fdc78a47556591065a2148081dea9"
   }
  }
 },
 "nbformat": 4,
 "nbformat_minor": 2
}
